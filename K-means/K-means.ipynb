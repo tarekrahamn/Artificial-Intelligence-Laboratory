{
 "cells": [
  {
   "cell_type": "code",
   "execution_count": 1,
   "id": "1ca43aec",
   "metadata": {
    "execution": {
     "iopub.execute_input": "2023-12-10T07:28:10.905745Z",
     "iopub.status.busy": "2023-12-10T07:28:10.905120Z",
     "iopub.status.idle": "2023-12-10T07:36:57.894737Z",
     "shell.execute_reply": "2023-12-10T07:36:57.893521Z"
    },
    "papermill": {
     "duration": 526.999373,
     "end_time": "2023-12-10T07:36:57.899559",
     "exception": false,
     "start_time": "2023-12-10T07:28:10.900186",
     "status": "completed"
    },
    "tags": []
   },
   "outputs": [
    {
     "name": "stdout",
     "output_type": "stream",
     "text": [
      "KNN Accuracy: 0.6606666666666666\n",
      "Logistic Regression Accuracy: 0.06666666666666667\n"
     ]
    }
   ],
   "source": [
    "import os\n",
    "import numpy as np\n",
    "from PIL import Image\n",
    "\n",
    "class KNN:\n",
    "    def __init__(self, k):\n",
    "        self.k = k\n",
    "\n",
    "    def train(self, X_train, Y_train, X_test):\n",
    "        predictions = []\n",
    "        for test_point in X_test:\n",
    "            #calculates the Euclidean distances between that test point and all points  in the train set\n",
    "            distances = np.linalg.norm(X_train - test_point, axis=1)\n",
    "            #find nearest neighbors in the distance array\n",
    "            nearest_neighbors_indices = np.argpartition(distances, self.k)[:self.k]\n",
    "            # k nearest neighbors from the Y_train\n",
    "            nearest_labels = Y_train[nearest_neighbors_indices]\n",
    "            unique_labels, counts = np.unique(nearest_labels, return_counts=True)\n",
    "            #its preditc current lavel to test point selected point with the higest count of the neraest\n",
    "            # protabeshi \n",
    "            predicted_label = unique_labels[np.argmax(counts)]\n",
    "            predictions.append(predicted_label)\n",
    "        return np.array(predictions)\n",
    "\n",
    "# ... (rest of the code remains the same)\n",
    "\n",
    "class LogisticRegression:\n",
    "    def __init__(self, epochs, lr):\n",
    "        self.epochs = epochs\n",
    "        self.lr = lr\n",
    "        self.weights = None\n",
    "        self.bias = None\n",
    "    #sigmoid activation function\n",
    "    def sigmoid(self, z):\n",
    "        return 1 / (1 + np.exp(-z))\n",
    "\n",
    "    def train(self, X, y):\n",
    "        m, n = X.shape\n",
    "        self.weights = np.zeros(n)\n",
    "        self.bias = 0\n",
    "\n",
    "        for epoch in range(self.epochs):\n",
    "            z = np.dot(X, self.weights) + self.bias\n",
    "            #sigmoid activation function to the computed values, getting the predicted probabilities.\n",
    "            a = self.sigmoid(z)\n",
    "            # Computes the gradient of the weights\n",
    "            #row represents a training example, and each column represents a feature.\n",
    "            dw = (1/m) * np.dot(X.T, (a - y))\n",
    "            # Computes the gradient of the bias its \n",
    "            #difference between predicted probabilities and actual labels.\n",
    "            db = (1/m) * np.sum(a - y)\n",
    "\n",
    "            self.weights -= self.lr * dw\n",
    "            self.bias -= self.lr * db\n",
    "\n",
    "    def predict(self, X):\n",
    "        #weighted sum of input features and adds the bias term.\n",
    "        z = np.dot(X, self.weights) + self.bias\n",
    "        return np.round(self.sigmoid(z))\n",
    "    #predicted class labels (0 or 1).\n",
    "\n",
    "class KMeans:\n",
    "    def __init__(self, k):\n",
    "        self.k = k\n",
    "        self.centroids = None\n",
    "\n",
    "    def train(self, X):\n",
    "        m, n = X.shape\n",
    "        # Randomly initialize centroids\n",
    "        random_indices = np.random.choice(m, self.k, replace=False)\n",
    "        self.centroids = X[random_indices]\n",
    "\n",
    "        # Iterate until convergence\n",
    "        for _ in range(100):\n",
    "            # Assign each point to the nearest centroid\n",
    "            distances = np.linalg.norm(X[:, np.newaxis, :] - self.centroids, axis=2)\n",
    "            labels = np.argmin(distances, axis=1)\n",
    "\n",
    "            # Update centroids\n",
    "            for i in range(self.k):\n",
    "                self.centroids[i] = np.mean(X[labels == i], axis=0)\n",
    "\n",
    "# Function to load images from a folder\n",
    "def load_images(folder_path):\n",
    "    images = []\n",
    "    labels = []\n",
    "    class_names = os.listdir(folder_path)\n",
    "    for i, class_name in enumerate(class_names):\n",
    "        class_path = os.path.join(folder_path, class_name)\n",
    "        for filename in os.listdir(class_path):\n",
    "            img_path = os.path.join(class_path, filename)\n",
    "            img = Image.open(img_path).convert(\"L\")  # Convert to grayscale\n",
    "            img = img.resize((32, 32))\n",
    "            img_array = np.array(img).flatten()\n",
    "            images.append(img_array)\n",
    "            labels.append(i)\n",
    "    return np.array(images), np.array(labels)\n",
    "\n",
    "# Dataset paths\n",
    "train_path = \"/kaggle/input/vegetable-image-dataset/Vegetable Images/train\"\n",
    "test_path = \"/kaggle/input/vegetable-image-dataset/Vegetable Images/test\"\n",
    "\n",
    "# Load training data\n",
    "X_train, Y_train = load_images(train_path)\n",
    "\n",
    "# Load testing data\n",
    "X_test, Y_test = load_images(test_path)\n",
    "\n",
    "# Normalize pixel values to be between 0 and 1\n",
    "X_train = X_train / 255.0\n",
    "X_test = X_test / 255.0\n",
    "\n",
    "# Example usage of KNN\n",
    "knn_classifier = KNN(k=5)\n",
    "knn_predictions = knn_classifier.train(X_train, Y_train, X_test)\n",
    "\n",
    "# Example usage of Logistic Regression\n",
    "logistic_regression_classifier = LogisticRegression(epochs=100, lr=0.01)\n",
    "logistic_regression_classifier.train(X_train, Y_train)\n",
    "logistic_regression_predictions = logistic_regression_classifier.predict(X_test)\n",
    "\n",
    "# Example usage of KMeans\n",
    "kmeans_classifier = KMeans(k=15)\n",
    "kmeans_classifier.train(X_train)\n",
    "\n",
    "# Evaluate the models (you can replace this with your own evaluation metrics)\n",
    "def calculate_accuracy(y_true, y_pred):\n",
    "    correct_predictions = np.sum(y_true == y_pred)\n",
    "    total_predictions = len(y_true)\n",
    "    accuracy = correct_predictions / total_predictions\n",
    "    return accuracy\n",
    "\n",
    "# Example usage\n",
    "knn_accuracy = calculate_accuracy(Y_test, knn_predictions)\n",
    "logistic_regression_accuracy = calculate_accuracy(Y_test, logistic_regression_predictions)\n",
    "\n",
    "print(f\"KNN Accuracy: {knn_accuracy}\")\n",
    "print(f\"Logistic Regression Accuracy: {logistic_regression_accuracy}\")\n",
    "\n"
   ]
  },
  {
   "cell_type": "code",
   "execution_count": 2,
   "id": "a8ba2701",
   "metadata": {
    "execution": {
     "iopub.execute_input": "2023-12-10T07:36:57.905881Z",
     "iopub.status.busy": "2023-12-10T07:36:57.905516Z",
     "iopub.status.idle": "2023-12-10T07:36:57.910798Z",
     "shell.execute_reply": "2023-12-10T07:36:57.909808Z"
    },
    "papermill": {
     "duration": 0.012146,
     "end_time": "2023-12-10T07:36:57.914179",
     "exception": false,
     "start_time": "2023-12-10T07:36:57.902033",
     "status": "completed"
    },
    "tags": []
   },
   "outputs": [
    {
     "name": "stdout",
     "output_type": "stream",
     "text": [
      "[ 7  0  0 ... 14 14 14]\n"
     ]
    }
   ],
   "source": [
    "print(knn_predictions)"
   ]
  }
 ],
 "metadata": {
  "kaggle": {
   "accelerator": "none",
   "dataSources": [
    {
     "datasetId": 1817999,
     "sourceId": 2965251,
     "sourceType": "datasetVersion"
    }
   ],
   "dockerImageVersionId": 30587,
   "isGpuEnabled": false,
   "isInternetEnabled": false,
   "language": "python",
   "sourceType": "notebook"
  },
  "kernelspec": {
   "display_name": "Python 3",
   "language": "python",
   "name": "python3"
  },
  "language_info": {
   "codemirror_mode": {
    "name": "ipython",
    "version": 3
   },
   "file_extension": ".py",
   "mimetype": "text/x-python",
   "name": "python",
   "nbconvert_exporter": "python",
   "pygments_lexer": "ipython3",
   "version": "3.10.12"
  },
  "papermill": {
   "default_parameters": {},
   "duration": 531.108959,
   "end_time": "2023-12-10T07:36:58.337999",
   "environment_variables": {},
   "exception": null,
   "input_path": "__notebook__.ipynb",
   "output_path": "__notebook__.ipynb",
   "parameters": {},
   "start_time": "2023-12-10T07:28:07.229040",
   "version": "2.4.0"
  }
 },
 "nbformat": 4,
 "nbformat_minor": 5
}
